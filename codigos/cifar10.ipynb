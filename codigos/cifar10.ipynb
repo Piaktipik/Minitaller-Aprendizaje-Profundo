{
 "cells": [
  {
   "cell_type": "code",
   "execution_count": null,
   "metadata": {
    "collapsed": false,
    "deletable": true,
    "editable": true
   },
   "outputs": [],
   "source": [
    "import numpy as np                  # Librería para operar matrices y vectores\n",
    "import matplotlib.pyplot as plt     # Librería para graficar figuras\n",
    "from keras.datasets import cifar10   # Keras importa la base de datos MNIST\n",
    "from keras.models import Sequential # Sequential sirve para declarar modelos neuronales\n",
    "from keras.layers.core import Dense, Dropout, Activation, Flatten # Funciones para declarar capas neuronales específicas \n",
    "from keras.layers import Conv2D, MaxPooling2D\n",
    "from keras.utils import np_utils    # np_utils sirve para crear los vectores objetivo\n",
    "from keras import optimizers\n",
    "from keras.constraints import maxnorm\n",
    "from keras.callbacks import ModelCheckpoint\n"
   ]
  },
  {
   "cell_type": "code",
   "execution_count": null,
   "metadata": {
    "collapsed": false,
    "deletable": true,
    "editable": true
   },
   "outputs": [],
   "source": [
    "nb_classes = 10\n",
    "# Base de datos Cifar10: 50,000 ejemplos para entrenamiento y 10,000 ejemplos para verificación\n",
    "(X_train, y_train), (X_test, y_test) = cifar10.load_data()\n",
    "print(\"Dimnesiones de X_train =\", X_train.shape)\n",
    "print(\"Dimensiones de y_train =\", y_train.shape)\n",
    "plt.hist(y_train, bins=np.arange(-0.5,10.5,1.0), rwidth=0.7) \n",
    "plt.title(\"Distribución\")\n",
    "plt.xticks(range(10))\n",
    "plt.show()"
   ]
  },
  {
   "cell_type": "code",
   "execution_count": null,
   "metadata": {
    "collapsed": false,
    "deletable": true,
    "editable": true,
    "scrolled": false
   },
   "outputs": [],
   "source": [
    "plt.rcParams['figure.figsize'] = (7,7) # Hacer las figuras más grandes\n",
    "\n",
    "for i in range(10):\n",
    "    index = np.where(y_train == i)\n",
    "    index = index[0][np.random.randint(index[0].shape[0], size=10)]\n",
    "    for j in range(10):\n",
    "        plt.subplot(10,10,i*10+j+1)\n",
    "        plt.imshow(X_train[index[j]], cmap='gray', interpolation='none')\n",
    "        plt.axis('off')\n",
    "#plt.savefig('cifar10.pdf',bbox_inches='tight',dpi=300)\n",
    "plt.show()\n"
   ]
  },
  {
   "cell_type": "code",
   "execution_count": null,
   "metadata": {
    "collapsed": false,
    "deletable": true,
    "editable": true
   },
   "outputs": [],
   "source": [
    "# Pre-Procesamiento\n",
    "X_train = X_train.reshape(50000, 32, 32, 3).astype('float32')\n",
    "X_test = X_test.reshape(10000, 32, 32, 3).astype('float32')\n",
    "X_train /= 255\n",
    "X_test /= 255\n",
    "print(\"Dimensiones de X_train =\", X_train.shape)\n",
    "print(\"Dimensiones de y_train =\", X_test.shape)\n",
    "Y_train = np_utils.to_categorical(y_train, nb_classes)\n",
    "Y_test = np_utils.to_categorical(y_test, nb_classes)"
   ]
  },
  {
   "cell_type": "code",
   "execution_count": null,
   "metadata": {
    "collapsed": false,
    "deletable": true,
    "editable": true
   },
   "outputs": [],
   "source": [
    "# Modelos \n",
    "mlp3 = Sequential()\n",
    "mlp3.add(Flatten(input_shape=X_train.shape[1:]))\n",
    "mlp3.add(Dense(512, use_bias=True, activation='relu'))                      \n",
    "mlp3.add(Dense(200, use_bias=True, activation='relu'))\n",
    "mlp3.add(Dense(100, use_bias=True, activation='relu'))\n",
    "mlp3.add(Dropout(0.4))\n",
    "mlp3.add(Dense(nb_classes, use_bias=True, activation='softmax'))"
   ]
  },
  {
   "cell_type": "code",
   "execution_count": null,
   "metadata": {
    "collapsed": false,
    "deletable": true,
    "editable": true
   },
   "outputs": [],
   "source": [
    "cnn4 = Sequential()  #80%\n",
    "cnn4.add(Conv2D(32, (3, 3), activation='relu', use_bias=True, padding='same',input_shape=X_train.shape[1:]))\n",
    "cnn4.add(Conv2D(32, (3, 3), activation='relu', use_bias=True))\n",
    "cnn4.add(MaxPooling2D(pool_size=(2, 2)))\n",
    "cnn4.add(Dropout(0.25))\n",
    "cnn4.add(Conv2D(64, (3, 3), activation='relu', use_bias=True, padding='same'))\n",
    "cnn4.add(Conv2D(64, (3, 3), activation='relu', use_bias=True))\n",
    "cnn4.add(MaxPooling2D(pool_size=(2, 2)))\n",
    "cnn4.add(Dropout(0.25))\n",
    "cnn4.add(Flatten())\n",
    "cnn4.add(Dense(512, activation='relu', use_bias=True))\n",
    "cnn4.add(Dropout(0.5))\n",
    "cnn4.add(Dense(nb_classes, use_bias=True, activation='softmax'))"
   ]
  },
  {
   "cell_type": "code",
   "execution_count": null,
   "metadata": {
    "collapsed": false,
    "deletable": true,
    "editable": true
   },
   "outputs": [],
   "source": [
    "model = Sequential()  #81%\n",
    "model.add(Conv2D(32, (3, 3), input_shape=X_train.shape[1:], activation='relu', padding='same'))\n",
    "model.add(Dropout(0.2))\n",
    "model.add(Conv2D(32, (3, 3), activation='relu', padding='same'))\n",
    "model.add(MaxPooling2D(pool_size=(2, 2)))\n",
    "model.add(Conv2D(64, (3, 3), activation='relu', padding='same'))\n",
    "model.add(Dropout(0.2))\n",
    "model.add(Conv2D(64, (3, 3), activation='relu', padding='same'))\n",
    "model.add(MaxPooling2D(pool_size=(2, 2)))\n",
    "model.add(Conv2D(128, (3, 3), activation='relu', padding='same'))\n",
    "model.add(Dropout(0.2))\n",
    "model.add(Conv2D(128, (3, 3), activation='relu', padding='same'))\n",
    "model.add(MaxPooling2D(pool_size=(2, 2)))\n",
    "model.add(Flatten())\n",
    "model.add(Dropout(0.2))\n",
    "model.add(Dense(1024, activation='relu', kernel_constraint=maxnorm(3)))\n",
    "model.add(Dropout(0.2))\n",
    "model.add(Dense(512, activation='relu', kernel_constraint=maxnorm(3)))\n",
    "model.add(Dropout(0.2))\n",
    "model.add(Dense(nb_classes, activation='softmax'))"
   ]
  },
  {
   "cell_type": "code",
   "execution_count": null,
   "metadata": {
    "collapsed": false,
    "deletable": true,
    "editable": true,
    "scrolled": true
   },
   "outputs": [],
   "source": [
    "# Entrenamiento\n",
    "model = model\n",
    "adam = optimizers.Adam(lr=0.001, beta_1=0.9, beta_2=0.999, epsilon=1e-08, decay=0.0)\n",
    "model.compile(loss='categorical_crossentropy', optimizer=adam, metrics=['accuracy'])\n",
    "checkpointer = ModelCheckpoint(filepath=\"bestmodel_cifar10.h5\", monitor='val_acc', verbose=0, save_best_only=True, mode='max', period=1)\n",
    "h = model.fit(X_train, Y_train, batch_size=64, epochs=25, verbose=1, validation_data=(X_test, Y_test), shuffle=True, callbacks=[checkpointer])\n",
    "\n"
   ]
  },
  {
   "cell_type": "code",
   "execution_count": null,
   "metadata": {
    "collapsed": false,
    "deletable": true,
    "editable": true,
    "scrolled": false
   },
   "outputs": [],
   "source": [
    "epoch_max = np.argmax(h.history['val_acc'])\n",
    "plt.plot(h.history['val_acc'], label='Validation')\n",
    "plt.plot(h.history['acc'], label='Training')\n",
    "plt.legend(loc='lower right')\n",
    "plt.plot(epoch_max, h.history['val_acc'][epoch_max],'*')\n",
    "plt.xlabel('epochs', fontsize=24)\n",
    "plt.ylabel('accuracy', fontsize=24)\n",
    "plt.suptitle('Learning curves', fontsize=30)\n",
    "axes = plt.gca()\n",
    "axes.set_ylim([0.4,1.1])\n",
    "\n",
    "#plt.savefig('accuracyVSunits/00ALTaccVSepochs.pdf', bbox_inches='tight')\n",
    "plt.show()\n",
    "\n"
   ]
  },
  {
   "cell_type": "code",
   "execution_count": null,
   "metadata": {
    "collapsed": false,
    "deletable": true,
    "editable": true
   },
   "outputs": [],
   "source": [
    "# Evaluar el mejor modelo\n",
    "model.load_weights(\"bestmodel_cifar10.h5\")\n",
    "score = model.evaluate(X_test, Y_test, verbose=0)\n",
    "print('Test score:', score[0])\n",
    "print('Test accuracy:', score[1])"
   ]
  },
  {
   "cell_type": "code",
   "execution_count": null,
   "metadata": {
    "collapsed": false,
    "deletable": true,
    "editable": true
   },
   "outputs": [],
   "source": [
    "# Inspección visual de los errores\n",
    "# Modificar este codigo\n",
    "predicted_classes = model.predict_classes(X_test)\n",
    "correct_indices = np.nonzero(predicted_classes == np.squeeze(y_test))[0]\n",
    "incorrect_indices = np.nonzero(predicted_classes != np.squeeze(y_test))[0]\n",
    "\n",
    "objects = ['airplane','automobile','bird','cat','deer','dog','frog','horse','ship','truck']\n",
    "\n",
    "\n",
    "plt.figure()\n",
    "for i, correct in enumerate(correct_indices[:9]):\n",
    "    plt.subplot(3,3,i+1)\n",
    "    plt.imshow(X_test[correct].reshape(32,32,3), interpolation='none')\n",
    "    plt.title(objects[predicted_classes[correct]] + ' = ' + objects[y_test[correct][0]])\n",
    "    plt.tick_params(axis='both',which='both',bottom='off',left='off',labelbottom='off',labelleft='off') \n",
    "plt.tight_layout()\n",
    "plt.figure()\n",
    "for i, incorrect in enumerate(incorrect_indices[:9]):\n",
    "    plt.subplot(3,3,i+1)\n",
    "    plt.imshow(X_test[incorrect].reshape(32,32,3), interpolation='none')\n",
    "    plt.title(objects[predicted_classes[incorrect]] + ' = ' + objects[y_test[incorrect][0]])\n",
    "    plt.tick_params(axis='both',which='both',bottom='off',left='off',labelbottom='off',labelleft='off') \n",
    "plt.tight_layout()\n",
    "plt.show()\n"
   ]
  },
  {
   "cell_type": "code",
   "execution_count": null,
   "metadata": {
    "collapsed": true,
    "deletable": true,
    "editable": true
   },
   "outputs": [],
   "source": []
  },
  {
   "cell_type": "code",
   "execution_count": null,
   "metadata": {
    "collapsed": true,
    "deletable": true,
    "editable": true
   },
   "outputs": [],
   "source": []
  }
 ],
 "metadata": {
  "kernelspec": {
   "display_name": "Python 3",
   "language": "python",
   "name": "python3"
  },
  "language_info": {
   "codemirror_mode": {
    "name": "ipython",
    "version": 3
   },
   "file_extension": ".py",
   "mimetype": "text/x-python",
   "name": "python",
   "nbconvert_exporter": "python",
   "pygments_lexer": "ipython3",
   "version": "3.5.2"
  },
  "widgets": {
   "state": {},
   "version": "1.1.2"
  }
 },
 "nbformat": 4,
 "nbformat_minor": 2
}
